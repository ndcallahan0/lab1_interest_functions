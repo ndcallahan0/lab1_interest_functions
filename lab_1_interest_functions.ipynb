{
  "nbformat": 4,
  "nbformat_minor": 0,
  "metadata": {
    "kernelspec": {
      "display_name": "Python 3",
      "language": "python",
      "name": "python3"
    },
    "language_info": {
      "codemirror_mode": {
        "name": "ipython",
        "version": 3
      },
      "file_extension": ".py",
      "mimetype": "text/x-python",
      "name": "python",
      "nbconvert_exporter": "python",
      "pygments_lexer": "ipython3",
      "version": "3.7.2"
    },
    "colab": {
      "name": "lab_1_interest_functions.ipynb",
      "provenance": [],
      "include_colab_link": true
    }
  },
  "cells": [
    {
      "cell_type": "markdown",
      "metadata": {
        "id": "view-in-github",
        "colab_type": "text"
      },
      "source": [
        "<a href=\"https://colab.research.google.com/github/ndcallahan0/lab1_interest_functions/blob/master/lab_1_interest_functions.ipynb\" target=\"_parent\"><img src=\"https://colab.research.google.com/assets/colab-badge.svg\" alt=\"Open In Colab\"/></a>"
      ]
    },
    {
      "cell_type": "markdown",
      "metadata": {
        "id": "97DLeRJbu1DX",
        "colab_type": "text"
      },
      "source": [
        "## Lab 1 - Compound Interest Functions\n",
        "\n",
        "Below you will find a table of important formulae related to compound interest.  \n",
        "\n",
        "<img src=\"https://www.dummies.com/wp-content/uploads/251689.image0.jpg\" alt=\"image0.jpg\" width=\"400\" height=\"319\">\n",
        "\n",
        "In this lab, you will create functions for each of these using (and documenting) the following workflow.\n",
        "\n",
        "1. Work out the correct answer for a few examples. *Hint* Search for e.g. \"worked out compound interest examples\" on the web.\n",
        "2. Write a `lambda` function and test this function on your test cases.\n",
        "3. Convert the `lambda` function to a `def` statement with an informative doc string that follows the [Google formating rules](https://google.github.io/styleguide/pyguide.html#383-functions-and-methods).\n",
        "4. Write an automated test function (using your previous examples) that will test your `def` statement function each time the code is executed."
      ]
    },
    {
      "cell_type": "markdown",
      "metadata": {
        "id": "a4YKnwRHu1Da",
        "colab_type": "text"
      },
      "source": [
        "#### Problem 1 -- Apply the process to create a simple interest functions."
      ]
    },
    {
      "cell_type": "code",
      "metadata": {
        "id": "s7UKTKO20Frm",
        "colab_type": "code",
        "colab": {
          "base_uri": "https://localhost:8080/",
          "height": 35
        },
        "outputId": "08b78152-b18d-41a3-afdf-502b65510b48"
      },
      "source": [
        "partial_amount = 30000\n",
        "rate = .05\n",
        "time = 10\n",
        "conv = 100\n",
        "si = (partial_amount*rate*time)/100\n",
        "si"
      ],
      "execution_count": 1,
      "outputs": [
        {
          "output_type": "execute_result",
          "data": {
            "text/plain": [
              "150.0"
            ]
          },
          "metadata": {
            "tags": []
          },
          "execution_count": 1
        }
      ]
    },
    {
      "cell_type": "code",
      "metadata": {
        "id": "psLCvVp5u1Dd",
        "colab_type": "code",
        "colab": {
          "base_uri": "https://localhost:8080/",
          "height": 35
        },
        "outputId": "18d6dc66-0a36-4493-a5c9-9b209de239a9"
      },
      "source": [
        "si = lambda p,r,t: (p*r*t)/100 \n",
        "\n",
        "si(30000,.05,10)\n",
        "  "
      ],
      "execution_count": 3,
      "outputs": [
        {
          "output_type": "execute_result",
          "data": {
            "text/plain": [
              "150.0"
            ]
          },
          "metadata": {
            "tags": []
          },
          "execution_count": 3
        }
      ]
    },
    {
      "cell_type": "code",
      "metadata": {
        "id": "OOoIn_Zx27mZ",
        "colab_type": "code",
        "colab": {
          "base_uri": "https://localhost:8080/",
          "height": 35
        },
        "outputId": "627a2175-2698-4853-8afa-c2abec66948d"
      },
      "source": [
        "conv = 100\n",
        "si = lambda partial_amount,rate,time: (partial_amount*rate*time)/conv \n",
        "si(30000,.05,10)"
      ],
      "execution_count": 4,
      "outputs": [
        {
          "output_type": "execute_result",
          "data": {
            "text/plain": [
              "150.0"
            ]
          },
          "metadata": {
            "tags": []
          },
          "execution_count": 4
        }
      ]
    },
    {
      "cell_type": "code",
      "metadata": {
        "id": "TPK_EtqMxugm",
        "colab_type": "code",
        "colab": {}
      },
      "source": [
        "def si(partial_amount,rate,time):\n",
        "  \"\"\" computes a simple interest rate using p as the partial amount t as the time and r as the rate \n",
        "arguments: p is the initial amount that has to be paid\n",
        "            t is the the time in years it will take to pay off the amount \n",
        "             r is the interest rate \n",
        "  \"\"\"\n",
        "\n",
        "  output = (partial_amount*rate*time)/100\n",
        "  return output\n",
        "\n",
        "def test_si():\n",
        "  assert si(30000,.05,10) == 150.0\n",
        "test_si()\n"
      ],
      "execution_count": 5,
      "outputs": []
    },
    {
      "cell_type": "markdown",
      "metadata": {
        "id": "OYSYx0R8u1D4",
        "colab_type": "text"
      },
      "source": [
        "#### Problem 2 -- Apply the process to create a compound interest functions."
      ]
    },
    {
      "cell_type": "code",
      "metadata": {
        "id": "iZX5hyPfu1D8",
        "colab_type": "code",
        "colab": {
          "base_uri": "https://localhost:8080/",
          "height": 35
        },
        "outputId": "6340799e-84ee-428c-ceb0-100019e10222"
      },
      "source": [
        "principle_amount = 1500\n",
        "time = 3\n",
        "rate =  4.5\n",
        "cpi = principle_amount * (pow((1 + rate / 100), time)) \n",
        "cpi "
      ],
      "execution_count": 9,
      "outputs": [
        {
          "output_type": "execute_result",
          "data": {
            "text/plain": [
              "1711.7491874999996"
            ]
          },
          "metadata": {
            "tags": []
          },
          "execution_count": 9
        }
      ]
    },
    {
      "cell_type": "code",
      "metadata": {
        "id": "Z_nSO2Vz7npy",
        "colab_type": "code",
        "colab": {
          "base_uri": "https://localhost:8080/",
          "height": 35
        },
        "outputId": "64c6af02-d0ba-4aa8-ab9e-f79160717531"
      },
      "source": [
        "cpi = lambda principle_amount,time,rate: principle_amount * (pow((1 + rate / 100), time)) \n",
        "cpi(1500,3,4.5)"
      ],
      "execution_count": 11,
      "outputs": [
        {
          "output_type": "execute_result",
          "data": {
            "text/plain": [
              "1711.7491874999996"
            ]
          },
          "metadata": {
            "tags": []
          },
          "execution_count": 11
        }
      ]
    },
    {
      "cell_type": "code",
      "metadata": {
        "id": "cxssgo9C8Amp",
        "colab_type": "code",
        "colab": {}
      },
      "source": [
        "def cpi(principle_amount,time,rate):\n",
        "  \"\"\"compute a compound interest rate for a specified amount\"\"\"\n",
        "  output = principle_amount * (pow((1 + rate / 100), time))\n",
        "  return output \n",
        "def test_cpi():\n",
        "  assert cpi(1500,3,4.5) == 1711.7491874999996\n",
        "test_cpi()"
      ],
      "execution_count": 12,
      "outputs": []
    },
    {
      "cell_type": "markdown",
      "metadata": {
        "id": "_s90oL4Ou1EM",
        "colab_type": "text"
      },
      "source": [
        "#### Problem 3 -- Apply the process to create a amortized loan payment function."
      ]
    },
    {
      "cell_type": "code",
      "metadata": {
        "id": "i6Uolruyu1EP",
        "colab_type": "code",
        "colab": {
          "base_uri": "https://localhost:8080/",
          "height": 35
        },
        "outputId": "9da9c420-ddbe-41ac-e736-945f3b3223aa"
      },
      "source": [
        "principal = 60000\n",
        "interest_rate = 0.03 \n",
        "period = 24\n",
        "a = (principal*interest_rate*((1 + interest_rate)**period))\n",
        "b = (((1+interest_rate)**period)-1)\n",
        "loan_payment = (a/b)\n",
        "loan_payment"
      ],
      "execution_count": 70,
      "outputs": [
        {
          "output_type": "execute_result",
          "data": {
            "text/plain": [
              "3542.844956938191"
            ]
          },
          "metadata": {
            "tags": []
          },
          "execution_count": 70
        }
      ]
    },
    {
      "cell_type": "code",
      "metadata": {
        "id": "q2sBu6xSSi5V",
        "colab_type": "code",
        "colab": {
          "base_uri": "https://localhost:8080/",
          "height": 35
        },
        "outputId": "476fa93a-4306-420d-d62e-74eb73d5caa5"
      },
      "source": [
        "loan_payment = lambda principal,interest_rate,period: (a/b)\n",
        "loan_payment(60000,0.03,24)"
      ],
      "execution_count": 71,
      "outputs": [
        {
          "output_type": "execute_result",
          "data": {
            "text/plain": [
              "3542.844956938191"
            ]
          },
          "metadata": {
            "tags": []
          },
          "execution_count": 71
        }
      ]
    },
    {
      "cell_type": "code",
      "metadata": {
        "id": "5SMKiZbAThbO",
        "colab_type": "code",
        "colab": {}
      },
      "source": [
        "def loan_payment(principal,interest_rate,period):\n",
        "  \"\"\"calculates how much a amortized loan payment is at a certain interest rate over a certain amount of time \"\"\"\n",
        "  output= (a/b)\n",
        "  return output \n",
        "\n",
        "  def test_loan_payment():\n",
        "    assert loan_payment (60000,0.03,24) == 3542.844956938191\n",
        "    test_loan_payment"
      ],
      "execution_count": 72,
      "outputs": []
    },
    {
      "cell_type": "markdown",
      "metadata": {
        "id": "_grnZTvqu1Ed",
        "colab_type": "text"
      },
      "source": [
        "#### Problem 4 -- Apply the process to create a remaining balance function"
      ]
    },
    {
      "cell_type": "code",
      "metadata": {
        "id": "TlrMoaltu1Eg",
        "colab_type": "code",
        "colab": {
          "base_uri": "https://localhost:8080/",
          "height": 35
        },
        "outputId": "15b9e438-f1e5-49d9-8cb3-ed73a684074a"
      },
      "source": [
        "monthly_payment = 1300 \n",
        "interest_rate = .04\n",
        "number_payments = 12\n",
        "years = 15\n",
        "x = monthly_payment*(1-(1+(interest_rate/number_payments))**(-years*(number_payments)))\n",
        "y = (interest_rate/number_payments)\n",
        "remaining_balance = (x/y)\n",
        "remaining_balance"
      ],
      "execution_count": 37,
      "outputs": [
        {
          "output_type": "execute_result",
          "data": {
            "text/plain": [
              "175749.79325628854"
            ]
          },
          "metadata": {
            "tags": []
          },
          "execution_count": 37
        }
      ]
    },
    {
      "cell_type": "code",
      "metadata": {
        "id": "KTugIStpPhUq",
        "colab_type": "code",
        "colab": {
          "base_uri": "https://localhost:8080/",
          "height": 35
        },
        "outputId": "c916a084-e965-4f58-e237-6f1516bbd025"
      },
      "source": [
        "remaining_balance = lambda monthly_payment,interest_rate,number_payments,years: (x/y)\n",
        "remaining_balance(1300,.04,12,15)"
      ],
      "execution_count": 36,
      "outputs": [
        {
          "output_type": "execute_result",
          "data": {
            "text/plain": [
              "175749.79325628854"
            ]
          },
          "metadata": {
            "tags": []
          },
          "execution_count": 36
        }
      ]
    },
    {
      "cell_type": "code",
      "metadata": {
        "id": "q5nwgUzEQZqh",
        "colab_type": "code",
        "colab": {}
      },
      "source": [
        "def remaining_balance(monthly_payment,interest_rate,number_monthly_payments,years):\n",
        "  \"\"\" Calculates the balance of lets say a mortgage with a monthly payment of $1300 for 15 years at a 4% interest rate\n",
        "  this formula will show the balance of the mortgage 15 years from the end of the loan \"\"\"\n",
        "  output = (x/y)\n",
        "  return output \n",
        "\n",
        "def test_remaining_balance():\n",
        " \n",
        "  assert remaining_balance (1300,.04,12,15) == 175749.79325628854\n",
        "  test_remaining_balance\n"
      ],
      "execution_count": 42,
      "outputs": []
    }
  ]
}